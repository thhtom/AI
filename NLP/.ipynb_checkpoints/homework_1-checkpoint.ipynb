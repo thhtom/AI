{
 "cells": [
  {
   "cell_type": "code",
   "execution_count": 13,
   "metadata": {},
   "outputs": [],
   "source": [
    "BEIJING,CHANGCHUN,MULUMUQI,WUHAN,GUANGZHOU,SHENZHEN,BANGKOK,SHANGHAI,NEWYORK = \"\"\"\n",
    "BEIJING CHANGCHUN MULUMUQI WUHAN GUANGZHOU SHENZHEN BANGKOK SHANGHAI NEWYORK\"\"\".split()"
   ]
  },
  {
   "cell_type": "code",
   "execution_count": 14,
   "metadata": {},
   "outputs": [],
   "source": [
    "dictionary = {}"
   ]
  },
  {
   "cell_type": "code",
   "execution_count": 15,
   "metadata": {},
   "outputs": [],
   "source": [
    "connection = {\n",
    "    CHANGCHUN :[BEIJING],\n",
    "    MULUMUQI : [BEIJING],\n",
    "    BEIJING : [MULUMUQI,CHANGCHUN,WUHAN,SHENZHEN,NEWYORK],\n",
    "    NEWYORK : [BEIJING,SHANGHAI],\n",
    "    SHANGHAI : [NEWYORK,WUHAN],\n",
    "    WUHAN : [SHANGHAI,BEIJING,GUANGZHOU],\n",
    "    GUANGZHOU : [WUHAN,BANGKOK],\n",
    "    SHENZHEN : [WUHAN, BANGKOK],\n",
    "    BANGKOK:[SHENZHEN,GUANGZHOU]  \n",
    "}"
   ]
  },
  {
   "cell_type": "code",
   "execution_count": 16,
   "metadata": {},
   "outputs": [],
   "source": [
    "import networkx as nx"
   ]
  },
  {
   "cell_type": "code",
   "execution_count": 21,
   "metadata": {},
   "outputs": [],
   "source": [
    "%matplotlib inline "
   ]
  },
  {
   "cell_type": "code",
   "execution_count": 18,
   "metadata": {},
   "outputs": [],
   "source": [
    "graph = connection"
   ]
  },
  {
   "cell_type": "code",
   "execution_count": 19,
   "metadata": {},
   "outputs": [],
   "source": [
    "g = nx.Graph(graph)"
   ]
  },
  {
   "cell_type": "code",
   "execution_count": 20,
   "metadata": {},
   "outputs": [
    {
     "data": {
      "image/png": "[encoded data removed]",
      "text/plain": [
       "<Figure size 432x288 with 1 Axes>"
      ]
     },
     "metadata": {},
     "output_type": "display_data"
    }
   ],
   "source": [
    "nx.draw(g)"
   ]
  },
  {
   "cell_type": "code",
   "execution_count": 23,
   "metadata": {},
   "outputs": [],
   "source": [
    "def nagivator(start, desination,connection_graph):\n",
    "    pathes = [[start]]\n",
    "    seen = set()\n",
    "    while pathes:\n",
    "        path = pathes.pop(0)\n",
    "        froniter = pathes[-1]\n",
    "        \n",
    "        if froniter in seen:continue\n",
    "        successors = connection_graph[froniter]\n",
    "            \n",
    "        for s in successors:\n",
    "             if s == desination:\n",
    "                path.append(s)\n",
    "                return path\n",
    "             else:\n",
    "                pathes.append(path + [s])\n",
    "        pathes = sorted(pathes,key = len)\n",
    "        seen.add(froniter)      "
   ]
  },
  {
   "cell_type": "code",
   "execution_count": 24,
   "metadata": {},
   "outputs": [],
   "source": [
    "def nagivator_bfs(start,destination,connection_graph):\n",
    "    pathes = [start]\n",
    "    seen = set ()\n",
    "    while pathes:\n",
    "        froniter = pathes.pop(0)\n",
    "        if froniter in seen :continue\n",
    "        \n",
    "        successors = connection_graph[froniter]\n",
    "        print (\"standing on {} looking forward {}\".format(froniter,successors))\n",
    "        pathes = pathes + successors\n",
    "        seen.add(froniter)\n",
    "    "
   ]
  },
  {
   "cell_type": "code",
   "execution_count": 25,
   "metadata": {},
   "outputs": [],
   "source": [
    "connection_2 = {\n",
    "    0:[1,5],\n",
    "    1:[0,2],\n",
    "    2:[1,3],\n",
    "    3:[2,4],\n",
    "    4:[3],\n",
    "    5:[0,6],\n",
    "    6:[5,7],\n",
    "    7:[6]\n",
    "}"
   ]
  },
  {
   "cell_type": "code",
   "execution_count": 27,
   "metadata": {},
   "outputs": [
    {
     "name": "stderr",
     "output_type": "stream",
     "text": [
      "/Users/tom/anaconda3/lib/python3.7/site-packages/networkx/drawing/nx_pylab.py:611: MatplotlibDeprecationWarning: isinstance(..., numbers.Number)\n",
      "  if cb.is_numlike(alpha):\n"
     ]
    },
    {
     "data": {
      "image/png": "[encoded data removed]",
      "text/plain": [
       "<Figure size 432x288 with 1 Axes>"
      ]
     },
     "metadata": {},
     "output_type": "display_data"
    }
   ],
   "source": [
    "nx.draw(nx.Graph(connection_2))"
   ]
  },
  {
   "cell_type": "code",
   "execution_count": 28,
   "metadata": {},
   "outputs": [
    {
     "name": "stdout",
     "output_type": "stream",
     "text": [
      "standing on 0 looking forward [1, 5]\n",
      "standing on 1 looking forward [0, 2]\n",
      "standing on 5 looking forward [0, 6]\n",
      "standing on 2 looking forward [1, 3]\n",
      "standing on 6 looking forward [5, 7]\n",
      "standing on 3 looking forward [2, 4]\n",
      "standing on 7 looking forward [6]\n",
      "standing on 4 looking forward [3]\n"
     ]
    }
   ],
   "source": [
    "nagivator_bfs(0,7,connection_2)"
   ]
  },
  {
   "cell_type": "code",
   "execution_count": null,
   "metadata": {},
   "outputs": [],
   "source": []
  }
 ],
 "metadata": {
  "kernelspec": {
   "display_name": "Python 3",
   "language": "python",
   "name": "python3"
  },
  "language_info": {
   "codemirror_mode": {
    "name": "ipython",
    "version": 3
   },
   "file_extension": ".py",
   "mimetype": "text/x-python",
   "name": "python",
   "nbconvert_exporter": "python",
   "pygments_lexer": "ipython3",
   "version": "3.7.1"
  }
 },
 "nbformat": 4,
 "nbformat_minor": 2
}
